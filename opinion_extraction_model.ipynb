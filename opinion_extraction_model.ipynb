{
 "cells": [
  {
   "cell_type": "code",
   "execution_count": 44,
   "metadata": {},
   "outputs": [],
   "source": [
    "import numpy as np\n",
    "import os\n",
    "import pandas as pd\n",
    "import sys"
   ]
  },
  {
   "cell_type": "code",
   "execution_count": 45,
   "metadata": {},
   "outputs": [],
   "source": [
    "train = pd.read_csv(\"Feature-OpinionExtraction.csv\", delimiter='\\t')\n",
    "sample_output = pd.read_csv(\"Feature-OpinionExtraction_outputSample.csv\", delimiter='\\t')"
   ]
  },
  {
   "cell_type": "code",
   "execution_count": 46,
   "metadata": {},
   "outputs": [
    {
     "data": {
      "text/html": [
       "<div>\n",
       "<style scoped>\n",
       "    .dataframe tbody tr th:only-of-type {\n",
       "        vertical-align: middle;\n",
       "    }\n",
       "\n",
       "    .dataframe tbody tr th {\n",
       "        vertical-align: top;\n",
       "    }\n",
       "\n",
       "    .dataframe thead th {\n",
       "        text-align: right;\n",
       "    }\n",
       "</style>\n",
       "<table border=\"1\" class=\"dataframe\">\n",
       "  <thead>\n",
       "    <tr style=\"text-align: right;\">\n",
       "      <th></th>\n",
       "      <th>Text</th>\n",
       "    </tr>\n",
       "  </thead>\n",
       "  <tbody>\n",
       "    <tr>\n",
       "      <th>0</th>\n",
       "      <td>After checking the result of my xray, told me ...</td>\n",
       "    </tr>\n",
       "    <tr>\n",
       "      <th>1</th>\n",
       "      <td>after confirming with the nurse what pharmacy ...</td>\n",
       "    </tr>\n",
       "    <tr>\n",
       "      <th>2</th>\n",
       "      <td>After discussing the issues with the nurse (ma...</td>\n",
       "    </tr>\n",
       "    <tr>\n",
       "      <th>3</th>\n",
       "      <td>After follow up with primary pedi, primary ped...</td>\n",
       "    </tr>\n",
       "    <tr>\n",
       "      <th>4</th>\n",
       "      <td>After getting all my information, the doctor w...</td>\n",
       "    </tr>\n",
       "  </tbody>\n",
       "</table>\n",
       "</div>"
      ],
      "text/plain": [
       "                                                Text\n",
       "0  After checking the result of my xray, told me ...\n",
       "1  after confirming with the nurse what pharmacy ...\n",
       "2  After discussing the issues with the nurse (ma...\n",
       "3  After follow up with primary pedi, primary ped...\n",
       "4  After getting all my information, the doctor w..."
      ]
     },
     "execution_count": 46,
     "metadata": {},
     "output_type": "execute_result"
    }
   ],
   "source": [
    "train.head()"
   ]
  },
  {
   "cell_type": "code",
   "execution_count": 47,
   "metadata": {},
   "outputs": [
    {
     "data": {
      "text/html": [
       "<div>\n",
       "<style scoped>\n",
       "    .dataframe tbody tr th:only-of-type {\n",
       "        vertical-align: middle;\n",
       "    }\n",
       "\n",
       "    .dataframe tbody tr th {\n",
       "        vertical-align: top;\n",
       "    }\n",
       "\n",
       "    .dataframe thead th {\n",
       "        text-align: right;\n",
       "    }\n",
       "</style>\n",
       "<table border=\"1\" class=\"dataframe\">\n",
       "  <thead>\n",
       "    <tr style=\"text-align: right;\">\n",
       "      <th></th>\n",
       "      <th>Text</th>\n",
       "      <th>topics/keywords</th>\n",
       "      <th>review/opinion/feedback</th>\n",
       "    </tr>\n",
       "  </thead>\n",
       "  <tbody>\n",
       "    <tr>\n",
       "      <th>3</th>\n",
       "      <td>Staff was awesome, Doctor incredible.</td>\n",
       "      <td>Staff</td>\n",
       "      <td>awesome</td>\n",
       "    </tr>\n",
       "    <tr>\n",
       "      <th>4</th>\n",
       "      <td>Staff was awesome, Doctor incredible.</td>\n",
       "      <td>Doctor</td>\n",
       "      <td>incredible</td>\n",
       "    </tr>\n",
       "    <tr>\n",
       "      <th>5</th>\n",
       "      <td>very clear instructions</td>\n",
       "      <td>instructions</td>\n",
       "      <td>very clear</td>\n",
       "    </tr>\n",
       "    <tr>\n",
       "      <th>6</th>\n",
       "      <td>Beautiful office surroundings &amp; wonderful rece...</td>\n",
       "      <td>office surroundings</td>\n",
       "      <td>Beautiful</td>\n",
       "    </tr>\n",
       "    <tr>\n",
       "      <th>7</th>\n",
       "      <td>Beautiful office surroundings &amp; wonderful rece...</td>\n",
       "      <td>receptionists</td>\n",
       "      <td>wonderful</td>\n",
       "    </tr>\n",
       "  </tbody>\n",
       "</table>\n",
       "</div>"
      ],
      "text/plain": [
       "                                                Text      topics/keywords  \\\n",
       "3             Staff was awesome, Doctor incredible.                 Staff   \n",
       "4             Staff was awesome, Doctor incredible.                Doctor   \n",
       "5                            very clear instructions         instructions   \n",
       "6  Beautiful office surroundings & wonderful rece...  office surroundings   \n",
       "7  Beautiful office surroundings & wonderful rece...        receptionists   \n",
       "\n",
       "  review/opinion/feedback  \n",
       "3                 awesome  \n",
       "4              incredible  \n",
       "5              very clear  \n",
       "6               Beautiful  \n",
       "7               wonderful  "
      ]
     },
     "execution_count": 47,
     "metadata": {},
     "output_type": "execute_result"
    }
   ],
   "source": [
    "sample_output.tail()"
   ]
  },
  {
   "cell_type": "code",
   "execution_count": 48,
   "metadata": {},
   "outputs": [
    {
     "data": {
      "text/plain": [
       "'The office is very clean and customer service was great and speedy'"
      ]
     },
     "execution_count": 48,
     "metadata": {},
     "output_type": "execute_result"
    }
   ],
   "source": [
    "sample_output['Text'][0]"
   ]
  },
  {
   "cell_type": "code",
   "execution_count": 61,
   "metadata": {},
   "outputs": [],
   "source": [
    "import spacy \n",
    "nlp = spacy.load('en_core_web_sm')"
   ]
  },
  {
   "cell_type": "code",
   "execution_count": 62,
   "metadata": {},
   "outputs": [],
   "source": [
    "document = nlp(sample_output['Text'][0])"
   ]
  },
  {
   "cell_type": "code",
   "execution_count": 63,
   "metadata": {},
   "outputs": [
    {
     "name": "stdout",
     "output_type": "stream",
     "text": [
      "The :  []\n",
      "office :  [The]\n",
      "is :  [office, clean, and, was]\n",
      "very :  []\n",
      "clean :  [very]\n",
      "and :  []\n",
      "customer :  []\n",
      "service :  [customer]\n",
      "was :  [service, great]\n",
      "great :  [and, speedy]\n",
      "and :  []\n",
      "speedy :  []\n"
     ]
    }
   ],
   "source": [
    "# create dependency tree\n",
    "for word in document:\n",
    "    print (word, ': ', str(list(word.children)))"
   ]
  },
  {
   "cell_type": "code",
   "execution_count": 91,
   "metadata": {},
   "outputs": [
    {
     "name": "stdout",
     "output_type": "stream",
     "text": [
      "             is                           \n",
      "  ___________|_____________                \n",
      " |    |      |            was             \n",
      " |    |      |       ______|____           \n",
      " |  office clean service      great       \n",
      " |    |      |      |       ____|_____     \n",
      "and  The    very customer and       speedy\n",
      "\n"
     ]
    },
    {
     "data": {
      "text/plain": [
       "[None]"
      ]
     },
     "execution_count": 91,
     "metadata": {},
     "output_type": "execute_result"
    }
   ],
   "source": [
    "from nltk import Tree\n",
    "def to_nltk_tree(node):\n",
    "    if node.n_lefts + node.n_rights > 0:\n",
    "        return Tree(node.orth_, [to_nltk_tree(child) for child in node.children])\n",
    "    else:\n",
    "        return node.orth_\n",
    "\n",
    "\n",
    "[to_nltk_tree(sent.root).pretty_print() for sent in document.sents]"
   ]
  },
  {
   "cell_type": "code",
   "execution_count": 123,
   "metadata": {},
   "outputs": [
    {
     "name": "stdout",
     "output_type": "stream",
     "text": [
      "The office office nsubj is\n",
      "customer service service nsubj was\n",
      "The det office NOUN []\n",
      "office nsubj is VERB [The]\n",
      "is ROOT is VERB [office, clean, and, was]\n",
      "very advmod clean ADJ []\n",
      "clean acomp is VERB [very]\n",
      "and cc is VERB []\n",
      "customer compound service NOUN []\n",
      "service nsubj was VERB [customer]\n",
      "was conj is VERB [service, great]\n",
      "great acomp was VERB [and, speedy]\n",
      "and cc great ADJ []\n",
      "speedy conj great ADJ []\n"
     ]
    }
   ],
   "source": [
    "tok = nlp(sample_output['Text'][0])\n",
    "svos = findSVOs(tok)\n",
    "\n",
    "for chunk in tok.noun_chunks:\n",
    "    print(chunk.text, chunk.root.text, chunk.root.dep_,\n",
    "          chunk.root.head.text)\n",
    "    \n",
    "for token in tok:\n",
    "    print(token.text, token.dep_, token.head.text, token.head.pos_,\n",
    "          [child for child in token.children])"
   ]
  },
  {
   "cell_type": "code",
   "execution_count": 189,
   "metadata": {},
   "outputs": [],
   "source": [
    "from nltk.corpus import stopwords\n",
    "from string import punctuation\n",
    "from spacy.symbols import nsubj, VERB\n",
    "stop_words = set(stopwords.words('english'))\n",
    "\n",
    "data_text = []\n",
    "data_topics = []\n",
    "data_opinions = []\n",
    "\n",
    "for doc in train['Text']:\n",
    "    tok = nlp(doc)\n",
    "    # Finding subjects\n",
    "    subjs = []\n",
    "    opinions = []\n",
    "    valid = ['NOUN','ADJ','PROP','NUM','PROPN']\n",
    "    sub_op_dict = {}\n",
    "    for possible_subject in tok:\n",
    "        if possible_subject.dep == nsubj and possible_subject.head.pos == VERB:\n",
    "            child_list = [child for child in possible_subject.head.children]\n",
    "            subjs.append(possible_subject)\n",
    "\n",
    "            for i in child_list:\n",
    "                if (i not in subjs) and (i.pos_ in valid) and (i not in stop_words):\n",
    "                    opinions.append(i)\n",
    "\n",
    "            if possible_subject not in sub_op_dict:\n",
    "                sub_op_dict[possible_subject] = opinions   \n",
    "            else:\n",
    "                sub_op_dict[possible_subject] = (opinions)\n",
    "\n",
    "    for k,v in sub_op_dict.items():\n",
    "        data_text.append(doc)\n",
    "        data_topics.append(k)\n",
    "        data_opinions.append(opinions)\n",
    "        "
   ]
  },
  {
   "cell_type": "code",
   "execution_count": 196,
   "metadata": {},
   "outputs": [],
   "source": [
    "###submission\n",
    "\n",
    "result = pd.DataFrame()\n",
    "result['Text'] = data_text\n",
    "result['topics/keywords'] = data_topics\n",
    "result['review/opinion/feedback'] = data_opinions\n",
    "\n",
    "result.to_csv(\"nn_result.csv\", index=False)"
   ]
  },
  {
   "cell_type": "code",
   "execution_count": 197,
   "metadata": {},
   "outputs": [
    {
     "data": {
      "text/html": [
       "<div>\n",
       "<style scoped>\n",
       "    .dataframe tbody tr th:only-of-type {\n",
       "        vertical-align: middle;\n",
       "    }\n",
       "\n",
       "    .dataframe tbody tr th {\n",
       "        vertical-align: top;\n",
       "    }\n",
       "\n",
       "    .dataframe thead th {\n",
       "        text-align: right;\n",
       "    }\n",
       "</style>\n",
       "<table border=\"1\" class=\"dataframe\">\n",
       "  <thead>\n",
       "    <tr style=\"text-align: right;\">\n",
       "      <th></th>\n",
       "      <th>Text</th>\n",
       "      <th>topics/keywords</th>\n",
       "      <th>review/opinion/feedback</th>\n",
       "    </tr>\n",
       "  </thead>\n",
       "  <tbody>\n",
       "    <tr>\n",
       "      <th>0</th>\n",
       "      <td>After checking the result of my xray, told me ...</td>\n",
       "      <td>I</td>\n",
       "      <td>[ok, medicines, papers, what]</td>\n",
       "    </tr>\n",
       "    <tr>\n",
       "      <th>1</th>\n",
       "      <td>After checking the result of my xray, told me ...</td>\n",
       "      <td>doctor</td>\n",
       "      <td>[ok, medicines, papers, what]</td>\n",
       "    </tr>\n",
       "    <tr>\n",
       "      <th>2</th>\n",
       "      <td>After checking the result of my xray, told me ...</td>\n",
       "      <td>I</td>\n",
       "      <td>[ok, medicines, papers, what]</td>\n",
       "    </tr>\n",
       "    <tr>\n",
       "      <th>3</th>\n",
       "      <td>After checking the result of my xray, told me ...</td>\n",
       "      <td>doctor</td>\n",
       "      <td>[ok, medicines, papers, what]</td>\n",
       "    </tr>\n",
       "    <tr>\n",
       "      <th>4</th>\n",
       "      <td>After checking the result of my xray, told me ...</td>\n",
       "      <td>I</td>\n",
       "      <td>[ok, medicines, papers, what]</td>\n",
       "    </tr>\n",
       "    <tr>\n",
       "      <th>5</th>\n",
       "      <td>after confirming with the nurse what pharmacy ...</td>\n",
       "      <td>pharmacy</td>\n",
       "      <td>[what, meds]</td>\n",
       "    </tr>\n",
       "    <tr>\n",
       "      <th>6</th>\n",
       "      <td>After discussing the issues with the nurse (ma...</td>\n",
       "      <td>nurse</td>\n",
       "      <td>[report]</td>\n",
       "    </tr>\n",
       "    <tr>\n",
       "      <th>7</th>\n",
       "      <td>After discussing the issues with the nurse (ma...</td>\n",
       "      <td>nurse</td>\n",
       "      <td>[report]</td>\n",
       "    </tr>\n",
       "    <tr>\n",
       "      <th>8</th>\n",
       "      <td>After follow up with primary pedi, primary ped...</td>\n",
       "      <td>pedi</td>\n",
       "      <td>[]</td>\n",
       "    </tr>\n",
       "    <tr>\n",
       "      <th>9</th>\n",
       "      <td>After getting all my information, the doctor w...</td>\n",
       "      <td>doctor</td>\n",
       "      <td>[something]</td>\n",
       "    </tr>\n",
       "    <tr>\n",
       "      <th>10</th>\n",
       "      <td>After getting all my information, the doctor w...</td>\n",
       "      <td>I</td>\n",
       "      <td>[something]</td>\n",
       "    </tr>\n",
       "    <tr>\n",
       "      <th>11</th>\n",
       "      <td>again, blonde nurse in pediatric er was fantas...</td>\n",
       "      <td>nurse</td>\n",
       "      <td>[fantastic, everything]</td>\n",
       "    </tr>\n",
       "    <tr>\n",
       "      <th>12</th>\n",
       "      <td>again, blonde nurse in pediatric er was fantas...</td>\n",
       "      <td>nurse</td>\n",
       "      <td>[fantastic, everything]</td>\n",
       "    </tr>\n",
       "    <tr>\n",
       "      <th>13</th>\n",
       "      <td>again I can't say enough everyone was great my...</td>\n",
       "      <td>I</td>\n",
       "      <td>[enough, great, IV, gentle]</td>\n",
       "    </tr>\n",
       "    <tr>\n",
       "      <th>14</th>\n",
       "      <td>again I can't say enough everyone was great my...</td>\n",
       "      <td>everyone</td>\n",
       "      <td>[enough, great, IV, gentle]</td>\n",
       "    </tr>\n",
       "    <tr>\n",
       "      <th>15</th>\n",
       "      <td>again I can't say enough everyone was great my...</td>\n",
       "      <td>son</td>\n",
       "      <td>[enough, great, IV, gentle]</td>\n",
       "    </tr>\n",
       "    <tr>\n",
       "      <th>16</th>\n",
       "      <td>again I can't say enough everyone was great my...</td>\n",
       "      <td>staff</td>\n",
       "      <td>[enough, great, IV, gentle]</td>\n",
       "    </tr>\n",
       "    <tr>\n",
       "      <th>17</th>\n",
       "      <td>Again Sagel Pekof or however you spell her nam...</td>\n",
       "      <td>you</td>\n",
       "      <td>[name, Pekof, nose, what]</td>\n",
       "    </tr>\n",
       "    <tr>\n",
       "      <th>18</th>\n",
       "      <td>Again Sagel Pekof or however you spell her nam...</td>\n",
       "      <td>she</td>\n",
       "      <td>[name, Pekof, nose, what]</td>\n",
       "    </tr>\n",
       "    <tr>\n",
       "      <th>19</th>\n",
       "      <td>Again Sagel Pekof or however you spell her nam...</td>\n",
       "      <td>I</td>\n",
       "      <td>[name, Pekof, nose, what]</td>\n",
       "    </tr>\n",
       "  </tbody>\n",
       "</table>\n",
       "</div>"
      ],
      "text/plain": [
       "                                                 Text topics/keywords  \\\n",
       "0   After checking the result of my xray, told me ...               I   \n",
       "1   After checking the result of my xray, told me ...          doctor   \n",
       "2   After checking the result of my xray, told me ...               I   \n",
       "3   After checking the result of my xray, told me ...          doctor   \n",
       "4   After checking the result of my xray, told me ...               I   \n",
       "5   after confirming with the nurse what pharmacy ...        pharmacy   \n",
       "6   After discussing the issues with the nurse (ma...           nurse   \n",
       "7   After discussing the issues with the nurse (ma...           nurse   \n",
       "8   After follow up with primary pedi, primary ped...            pedi   \n",
       "9   After getting all my information, the doctor w...          doctor   \n",
       "10  After getting all my information, the doctor w...               I   \n",
       "11  again, blonde nurse in pediatric er was fantas...           nurse   \n",
       "12  again, blonde nurse in pediatric er was fantas...           nurse   \n",
       "13  again I can't say enough everyone was great my...               I   \n",
       "14  again I can't say enough everyone was great my...        everyone   \n",
       "15  again I can't say enough everyone was great my...             son   \n",
       "16  again I can't say enough everyone was great my...           staff   \n",
       "17  Again Sagel Pekof or however you spell her nam...             you   \n",
       "18  Again Sagel Pekof or however you spell her nam...             she   \n",
       "19  Again Sagel Pekof or however you spell her nam...               I   \n",
       "\n",
       "          review/opinion/feedback  \n",
       "0   [ok, medicines, papers, what]  \n",
       "1   [ok, medicines, papers, what]  \n",
       "2   [ok, medicines, papers, what]  \n",
       "3   [ok, medicines, papers, what]  \n",
       "4   [ok, medicines, papers, what]  \n",
       "5                    [what, meds]  \n",
       "6                        [report]  \n",
       "7                        [report]  \n",
       "8                              []  \n",
       "9                     [something]  \n",
       "10                    [something]  \n",
       "11        [fantastic, everything]  \n",
       "12        [fantastic, everything]  \n",
       "13    [enough, great, IV, gentle]  \n",
       "14    [enough, great, IV, gentle]  \n",
       "15    [enough, great, IV, gentle]  \n",
       "16    [enough, great, IV, gentle]  \n",
       "17      [name, Pekof, nose, what]  \n",
       "18      [name, Pekof, nose, what]  \n",
       "19      [name, Pekof, nose, what]  "
      ]
     },
     "execution_count": 197,
     "metadata": {},
     "output_type": "execute_result"
    }
   ],
   "source": [
    "result.head(20)"
   ]
  },
  {
   "cell_type": "code",
   "execution_count": null,
   "metadata": {},
   "outputs": [],
   "source": []
  }
 ],
 "metadata": {
  "kernelspec": {
   "display_name": "Python 3",
   "language": "python",
   "name": "python3"
  },
  "language_info": {
   "codemirror_mode": {
    "name": "ipython",
    "version": 3
   },
   "file_extension": ".py",
   "mimetype": "text/x-python",
   "name": "python",
   "nbconvert_exporter": "python",
   "pygments_lexer": "ipython3",
   "version": "3.6.5"
  }
 },
 "nbformat": 4,
 "nbformat_minor": 2
}
